{
 "cells": [
  {
   "cell_type": "code",
   "execution_count": 1,
   "metadata": {},
   "outputs": [],
   "source": [
    "import requests\n",
    "r =requests.get(url='https://dap.avm.de/zeppelin/#/notebook/2F2E4N8PA')"
   ]
  },
  {
   "cell_type": "code",
   "execution_count": 2,
   "metadata": {},
   "outputs": [
    {
     "data": {
      "text/plain": [
       "'<!doctype html><!--\\nLicensed under the Apache License, Version 2.0 (the \"License\");\\nyou may not use this file except in compliance with the License.\\nYou may obtain a copy of the License at\\n\\nhttp://www.apache.org/licenses/LICENSE-2.0\\n\\nUnless required by applicable law or agreed to in writing, software\\ndistributed under the License is distributed on an \"AS IS\" BASIS,\\nWITHOUT WARRANTIES OR CONDITIONS OF ANY KIND, either express or implied.\\nSee the License for the specific language governing permissions and\\nlimitations under the License.\\n--> <html ng-controller=\"MainCtrl\" class=\"no-js\"> <head> <meta http-equiv=\"X-UA-Compatible\" content=\"IE=edge\"> <meta charset=\"utf-8\"> <title ng-bind=\"$root.pageTitle\">Zeppelin</title> <!-- disable caches for all browser --> <meta http-equiv=\"cache-control\" content=\"max-age=0\"> <meta http-equiv=\"cache-control\" content=\"no-cache\"> <meta http-equiv=\"cache-control\" content=\"no-store\"> <meta http-equiv=\"expires\" content=\"0\"> <meta http-equiv=\"expires\" content=\"Tue, 01 Jan 1980 1:00:00 GMT\"> <meta http-equiv=\"pragma\" content=\"no-cache\"> <meta name=\"description\" content=\"\"> <meta name=\"viewport\" content=\"width=device-width\"> <!-- ACE CSS autocomplition issue workarounds --> <style type=\"text/css\">div.ace_editor.ace_autocomplete .ace_marker-layer .ace_active-line { z-index: -1 !important; }</style> <!-- Place favicon.ico and apple-touch-icon.png in the root directory --> <link rel=\"stylesheet\" href=\"styles/vendor.b3156f4b282597c9.css\"> <link rel=\"stylesheet\" href=\"styles/main.1eebe87cf2e1f095.css\"> <link rel=\"stylesheet\" ng-href=\"assets/styles/looknfeel/{{looknfeel}}.css\"> <link rel=\"stylesheet\" href=\"assets/styles/printMode.css\"> <style>/* This is kept here puropsly to show preloader */\\n      #pre-loader {\\n        height: 100%;\\n        min-height: 100%;\\n        background-color: #ECF0F1;\\n        width: 100%;\\n        position: fixed;\\n        top: 0px;\\n        margin-left: -8px;\\n        z-index: 99\\n      }\\n\\n      .pre-loader-content {\\n        position: absolute;\\n        top: 45%;\\n        left: 50%\\n      }\\n\\n      .loader {\\n        border: 4px solid #666666;\\n        border-top: 4px solid #3071A9;\\n        border-radius: 50%;\\n        width: 30px;\\n        height: 30px;\\n        animation: spin 1s linear infinite;\\n      }\\n\\n      @keyframes spin {\\n        0% {\\n          transform: rotate(0deg);\\n        }\\n        100% {\\n          transform: rotate(360deg);\\n        }\\n      }</style> <link href=\"app.5d755d596e4373701b4f.css\" rel=\"stylesheet\"> <body ng-class=\"{\\'bodyAsIframe\\': asIframe}\"> <div id=\"pre-loader\"> <div class=\"pre-loader-content\"> <div class=\"loader\"></div> <div style=\"margin-top: 5px; margin-left: -10px\">Loading ...</div> </div> </div> <!--[if lt IE 7]>\\n    <p class=\"browsehappy\">You are using an <strong>outdated</strong> browser. Please <a href=\"http://browsehappy.com/\">upgrade your browser</a> to improve your experience.</p>\\n    <![endif]--> <toast></toast> <div ng-include src=\"\\'components/navbar/navbar.html?v=1549459615507\\'\"></div> <!-- Add your site or application content here --> <div id=\"main\" class=\"container\"> <div ng-view></div> </div> <!-- global :: dialogs --> <div ng-include src=\"\\'app/notebook/shortcut.html?v=1549459615507\\'\"></div> <div ng-controller=\"NoteCreateCtrl as noteCreateCtrl\"> <div id=\"note-modal-container\" ng-include src=\"\\'components/note-create/note-create.html?v=1549459615507\\'\"></div> </div> <div ng-controller=\"NoteImportCtrl as noteImportCtrl\"> <div id=\"note-import-container\" ng-include src=\"\\'components/note-import/note-import.html?v=1549459615507\\'\"></div> </div> <div ng-controller=\"LoginCtrl\"> <div id=\"login-container\" ng-include src=\"\\'components/login/login.html?v=1549459615507\\'\"></div> </div> <div ng-controller=\"NoteRenameCtrl\"> <div ng-include src=\"\\'components/note-rename/note-rename.html?v=1549459615507\\'\"></div> </div> <!--[if lt IE 9]>\\n    <script src=\"scripts/oldieshim.dcc32a4582425f8c.js\"></script>\\n    <![endif]--> <script type=\"text/x-mathjax-config\">var config = {\\n        extensions: [\"tex2jax.js\"],\\n        jax: [\"input/TeX\", \"output/HTML-CSS\"],\\n        tex2jax: {\\n          inlineMath: [ [\"\\\\\\\\(\",\"\\\\\\\\)\"] ],\\n          displayMath: [ [\\'$$\\',\\'$$\\'], [\"\\\\\\\\[\",\"\\\\\\\\]\"] ],\\n          processEscapes: true\\n        },\\n        \"HTML-CSS\": { availableFonts: [\"TeX\"] },\\n        messageStyle: \"none\"\\n      }\\n      // add root only if it\\'s not dev mode\\n      if (Number(location.port) !== 9000) {\\n        config.root = \\'.\\';\\n      }\\n      MathJax.Hub.Config(config);</script> <script src=\"scripts/vendor.7c422ac233d78317.js\"></script> <script type=\"text/javascript\" src=\"app.5d755d596e4373701b4f.js\"></script> '"
      ]
     },
     "execution_count": 2,
     "metadata": {},
     "output_type": "execute_result"
    }
   ],
   "source": [
    "r.text"
   ]
  },
  {
   "cell_type": "code",
   "execution_count": 4,
   "metadata": {},
   "outputs": [],
   "source": [
    "from bs4 import BeautifulSoup\n",
    "soup = BeautifulSoup(r.text)"
   ]
  },
  {
   "cell_type": "code",
   "execution_count": 6,
   "metadata": {},
   "outputs": [
    {
     "data": {
      "text/plain": [
       "bs4.BeautifulSoup"
      ]
     },
     "execution_count": 6,
     "metadata": {},
     "output_type": "execute_result"
    }
   ],
   "source": [
    "type(soup)"
   ]
  },
  {
   "cell_type": "code",
   "execution_count": 7,
   "metadata": {},
   "outputs": [
    {
     "data": {
      "text/plain": [
       "<!DOCTYPE html>\n",
       "<!--\n",
       "Licensed under the Apache License, Version 2.0 (the \"License\");\n",
       "you may not use this file except in compliance with the License.\n",
       "You may obtain a copy of the License at\n",
       "\n",
       "http://www.apache.org/licenses/LICENSE-2.0\n",
       "\n",
       "Unless required by applicable law or agreed to in writing, software\n",
       "distributed under the License is distributed on an \"AS IS\" BASIS,\n",
       "WITHOUT WARRANTIES OR CONDITIONS OF ANY KIND, either express or implied.\n",
       "See the License for the specific language governing permissions and\n",
       "limitations under the License.\n",
       "--><html class=\"no-js\" ng-controller=\"MainCtrl\"> <head> <meta content=\"IE=edge\" http-equiv=\"X-UA-Compatible\"/> <meta charset=\"utf-8\"/> <title ng-bind=\"$root.pageTitle\">Zeppelin</title> <!-- disable caches for all browser --> <meta content=\"max-age=0\" http-equiv=\"cache-control\"/> <meta content=\"no-cache\" http-equiv=\"cache-control\"/> <meta content=\"no-store\" http-equiv=\"cache-control\"/> <meta content=\"0\" http-equiv=\"expires\"/> <meta content=\"Tue, 01 Jan 1980 1:00:00 GMT\" http-equiv=\"expires\"/> <meta content=\"no-cache\" http-equiv=\"pragma\"/> <meta content=\"\" name=\"description\"/> <meta content=\"width=device-width\" name=\"viewport\"/> <!-- ACE CSS autocomplition issue workarounds --> <style type=\"text/css\">div.ace_editor.ace_autocomplete .ace_marker-layer .ace_active-line { z-index: -1 !important; }</style> <!-- Place favicon.ico and apple-touch-icon.png in the root directory --> <link href=\"styles/vendor.b3156f4b282597c9.css\" rel=\"stylesheet\"/> <link href=\"styles/main.1eebe87cf2e1f095.css\" rel=\"stylesheet\"/> <link ng-href=\"assets/styles/looknfeel/{{looknfeel}}.css\" rel=\"stylesheet\"/> <link href=\"assets/styles/printMode.css\" rel=\"stylesheet\"/> <style>/* This is kept here puropsly to show preloader */\n",
       "      #pre-loader {\n",
       "        height: 100%;\n",
       "        min-height: 100%;\n",
       "        background-color: #ECF0F1;\n",
       "        width: 100%;\n",
       "        position: fixed;\n",
       "        top: 0px;\n",
       "        margin-left: -8px;\n",
       "        z-index: 99\n",
       "      }\n",
       "\n",
       "      .pre-loader-content {\n",
       "        position: absolute;\n",
       "        top: 45%;\n",
       "        left: 50%\n",
       "      }\n",
       "\n",
       "      .loader {\n",
       "        border: 4px solid #666666;\n",
       "        border-top: 4px solid #3071A9;\n",
       "        border-radius: 50%;\n",
       "        width: 30px;\n",
       "        height: 30px;\n",
       "        animation: spin 1s linear infinite;\n",
       "      }\n",
       "\n",
       "      @keyframes spin {\n",
       "        0% {\n",
       "          transform: rotate(0deg);\n",
       "        }\n",
       "        100% {\n",
       "          transform: rotate(360deg);\n",
       "        }\n",
       "      }</style> <link href=\"app.5d755d596e4373701b4f.css\" rel=\"stylesheet\"/> </head><body ng-class=\"{'bodyAsIframe': asIframe}\"> <div id=\"pre-loader\"> <div class=\"pre-loader-content\"> <div class=\"loader\"></div> <div style=\"margin-top: 5px; margin-left: -10px\">Loading ...</div> </div> </div> <!--[if lt IE 7]>\n",
       "    <p class=\"browsehappy\">You are using an <strong>outdated</strong> browser. Please <a href=\"http://browsehappy.com/\">upgrade your browser</a> to improve your experience.</p>\n",
       "    <![endif]--> <toast></toast> <div ng-include=\"\" src=\"'components/navbar/navbar.html?v=1549459615507'\"></div> <!-- Add your site or application content here --> <div class=\"container\" id=\"main\"> <div ng-view=\"\"></div> </div> <!-- global :: dialogs --> <div ng-include=\"\" src=\"'app/notebook/shortcut.html?v=1549459615507'\"></div> <div ng-controller=\"NoteCreateCtrl as noteCreateCtrl\"> <div id=\"note-modal-container\" ng-include=\"\" src=\"'components/note-create/note-create.html?v=1549459615507'\"></div> </div> <div ng-controller=\"NoteImportCtrl as noteImportCtrl\"> <div id=\"note-import-container\" ng-include=\"\" src=\"'components/note-import/note-import.html?v=1549459615507'\"></div> </div> <div ng-controller=\"LoginCtrl\"> <div id=\"login-container\" ng-include=\"\" src=\"'components/login/login.html?v=1549459615507'\"></div> </div> <div ng-controller=\"NoteRenameCtrl\"> <div ng-include=\"\" src=\"'components/note-rename/note-rename.html?v=1549459615507'\"></div> </div> <!--[if lt IE 9]>\n",
       "    <script src=\"scripts/oldieshim.dcc32a4582425f8c.js\"></script>\n",
       "    <![endif]--> <script type=\"text/x-mathjax-config\">var config = {\n",
       "        extensions: [\"tex2jax.js\"],\n",
       "        jax: [\"input/TeX\", \"output/HTML-CSS\"],\n",
       "        tex2jax: {\n",
       "          inlineMath: [ [\"\\\\(\",\"\\\\)\"] ],\n",
       "          displayMath: [ ['$$','$$'], [\"\\\\[\",\"\\\\]\"] ],\n",
       "          processEscapes: true\n",
       "        },\n",
       "        \"HTML-CSS\": { availableFonts: [\"TeX\"] },\n",
       "        messageStyle: \"none\"\n",
       "      }\n",
       "      // add root only if it's not dev mode\n",
       "      if (Number(location.port) !== 9000) {\n",
       "        config.root = '.';\n",
       "      }\n",
       "      MathJax.Hub.Config(config);</script> <script src=\"scripts/vendor.7c422ac233d78317.js\"></script> <script src=\"app.5d755d596e4373701b4f.js\" type=\"text/javascript\"></script> </body></html>"
      ]
     },
     "execution_count": 7,
     "metadata": {},
     "output_type": "execute_result"
    }
   ],
   "source": [
    "soup"
   ]
  },
  {
   "cell_type": "code",
   "execution_count": null,
   "metadata": {},
   "outputs": [],
   "source": []
  }
 ],
 "metadata": {
  "kernelspec": {
   "display_name": "Python 3",
   "language": "python",
   "name": "python3"
  },
  "language_info": {
   "codemirror_mode": {
    "name": "ipython",
    "version": 3
   },
   "file_extension": ".py",
   "mimetype": "text/x-python",
   "name": "python",
   "nbconvert_exporter": "python",
   "pygments_lexer": "ipython3",
   "version": "3.7.4"
  }
 },
 "nbformat": 4,
 "nbformat_minor": 2
}
